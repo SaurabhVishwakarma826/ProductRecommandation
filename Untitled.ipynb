{
 "cells": [
  {
   "cell_type": "code",
   "execution_count": 1,
   "id": "e46e7268-3e9a-4965-9c3d-ded83b768914",
   "metadata": {},
   "outputs": [],
   "source": [
    "import pandas as pd\n",
    "import seaborn as sns\n",
    "import matplotlib.pyplot as plt\n",
    "import numpy as np\n",
    "from scipy.sparse import csr_matrix"
   ]
  },
  {
   "cell_type": "code",
   "execution_count": 2,
   "id": "914376e4-ebe9-4d01-b783-a3cedc589af4",
   "metadata": {},
   "outputs": [],
   "source": [
    "event_df = pd.read_csv(\"events.csv\")"
   ]
  },
  {
   "cell_type": "code",
   "execution_count": 3,
   "id": "cb2b1ae8-dae3-4fb2-82ae-15bb345bb012",
   "metadata": {},
   "outputs": [
    {
     "data": {
      "text/html": [
       "<div>\n",
       "<style scoped>\n",
       "    .dataframe tbody tr th:only-of-type {\n",
       "        vertical-align: middle;\n",
       "    }\n",
       "\n",
       "    .dataframe tbody tr th {\n",
       "        vertical-align: top;\n",
       "    }\n",
       "\n",
       "    .dataframe thead th {\n",
       "        text-align: right;\n",
       "    }\n",
       "</style>\n",
       "<table border=\"1\" class=\"dataframe\">\n",
       "  <thead>\n",
       "    <tr style=\"text-align: right;\">\n",
       "      <th></th>\n",
       "      <th>timestamp</th>\n",
       "      <th>visitorid</th>\n",
       "      <th>event</th>\n",
       "      <th>itemid</th>\n",
       "      <th>transactionid</th>\n",
       "    </tr>\n",
       "  </thead>\n",
       "  <tbody>\n",
       "    <tr>\n",
       "      <th>0</th>\n",
       "      <td>1433221332117</td>\n",
       "      <td>257597</td>\n",
       "      <td>view</td>\n",
       "      <td>355908</td>\n",
       "      <td>NaN</td>\n",
       "    </tr>\n",
       "    <tr>\n",
       "      <th>1</th>\n",
       "      <td>1433224214164</td>\n",
       "      <td>992329</td>\n",
       "      <td>view</td>\n",
       "      <td>248676</td>\n",
       "      <td>NaN</td>\n",
       "    </tr>\n",
       "    <tr>\n",
       "      <th>2</th>\n",
       "      <td>1433221999827</td>\n",
       "      <td>111016</td>\n",
       "      <td>view</td>\n",
       "      <td>318965</td>\n",
       "      <td>NaN</td>\n",
       "    </tr>\n",
       "    <tr>\n",
       "      <th>3</th>\n",
       "      <td>1433221955914</td>\n",
       "      <td>483717</td>\n",
       "      <td>view</td>\n",
       "      <td>253185</td>\n",
       "      <td>NaN</td>\n",
       "    </tr>\n",
       "    <tr>\n",
       "      <th>4</th>\n",
       "      <td>1433221337106</td>\n",
       "      <td>951259</td>\n",
       "      <td>view</td>\n",
       "      <td>367447</td>\n",
       "      <td>NaN</td>\n",
       "    </tr>\n",
       "    <tr>\n",
       "      <th>...</th>\n",
       "      <td>...</td>\n",
       "      <td>...</td>\n",
       "      <td>...</td>\n",
       "      <td>...</td>\n",
       "      <td>...</td>\n",
       "    </tr>\n",
       "    <tr>\n",
       "      <th>2756096</th>\n",
       "      <td>1438398785939</td>\n",
       "      <td>591435</td>\n",
       "      <td>view</td>\n",
       "      <td>261427</td>\n",
       "      <td>NaN</td>\n",
       "    </tr>\n",
       "    <tr>\n",
       "      <th>2756097</th>\n",
       "      <td>1438399813142</td>\n",
       "      <td>762376</td>\n",
       "      <td>view</td>\n",
       "      <td>115946</td>\n",
       "      <td>NaN</td>\n",
       "    </tr>\n",
       "    <tr>\n",
       "      <th>2756098</th>\n",
       "      <td>1438397820527</td>\n",
       "      <td>1251746</td>\n",
       "      <td>view</td>\n",
       "      <td>78144</td>\n",
       "      <td>NaN</td>\n",
       "    </tr>\n",
       "    <tr>\n",
       "      <th>2756099</th>\n",
       "      <td>1438398530703</td>\n",
       "      <td>1184451</td>\n",
       "      <td>view</td>\n",
       "      <td>283392</td>\n",
       "      <td>NaN</td>\n",
       "    </tr>\n",
       "    <tr>\n",
       "      <th>2756100</th>\n",
       "      <td>1438400163914</td>\n",
       "      <td>199536</td>\n",
       "      <td>view</td>\n",
       "      <td>152913</td>\n",
       "      <td>NaN</td>\n",
       "    </tr>\n",
       "  </tbody>\n",
       "</table>\n",
       "<p>2756101 rows × 5 columns</p>\n",
       "</div>"
      ],
      "text/plain": [
       "             timestamp  visitorid event  itemid  transactionid\n",
       "0        1433221332117     257597  view  355908            NaN\n",
       "1        1433224214164     992329  view  248676            NaN\n",
       "2        1433221999827     111016  view  318965            NaN\n",
       "3        1433221955914     483717  view  253185            NaN\n",
       "4        1433221337106     951259  view  367447            NaN\n",
       "...                ...        ...   ...     ...            ...\n",
       "2756096  1438398785939     591435  view  261427            NaN\n",
       "2756097  1438399813142     762376  view  115946            NaN\n",
       "2756098  1438397820527    1251746  view   78144            NaN\n",
       "2756099  1438398530703    1184451  view  283392            NaN\n",
       "2756100  1438400163914     199536  view  152913            NaN\n",
       "\n",
       "[2756101 rows x 5 columns]"
      ]
     },
     "execution_count": 3,
     "metadata": {},
     "output_type": "execute_result"
    }
   ],
   "source": [
    "event_df"
   ]
  },
  {
   "cell_type": "code",
   "execution_count": 4,
   "id": "666740fd-2f94-489f-9111-114bcf620774",
   "metadata": {},
   "outputs": [
    {
     "name": "stdout",
     "output_type": "stream",
     "text": [
      "<class 'pandas.core.frame.DataFrame'>\n",
      "RangeIndex: 2756101 entries, 0 to 2756100\n",
      "Data columns (total 5 columns):\n",
      " #   Column         Dtype  \n",
      "---  ------         -----  \n",
      " 0   timestamp      int64  \n",
      " 1   visitorid      int64  \n",
      " 2   event          object \n",
      " 3   itemid         int64  \n",
      " 4   transactionid  float64\n",
      "dtypes: float64(1), int64(3), object(1)\n",
      "memory usage: 105.1+ MB\n"
     ]
    }
   ],
   "source": [
    "event_df.info()"
   ]
  },
  {
   "cell_type": "code",
   "execution_count": 5,
   "id": "418e92d3-dc69-4fe1-bbf6-969e89cf4f64",
   "metadata": {},
   "outputs": [
    {
     "data": {
      "text/html": [
       "<div>\n",
       "<style scoped>\n",
       "    .dataframe tbody tr th:only-of-type {\n",
       "        vertical-align: middle;\n",
       "    }\n",
       "\n",
       "    .dataframe tbody tr th {\n",
       "        vertical-align: top;\n",
       "    }\n",
       "\n",
       "    .dataframe thead th {\n",
       "        text-align: right;\n",
       "    }\n",
       "</style>\n",
       "<table border=\"1\" class=\"dataframe\">\n",
       "  <thead>\n",
       "    <tr style=\"text-align: right;\">\n",
       "      <th></th>\n",
       "      <th>timestamp</th>\n",
       "      <th>visitorid</th>\n",
       "      <th>itemid</th>\n",
       "      <th>transactionid</th>\n",
       "    </tr>\n",
       "  </thead>\n",
       "  <tbody>\n",
       "    <tr>\n",
       "      <th>count</th>\n",
       "      <td>2.756101e+06</td>\n",
       "      <td>2.756101e+06</td>\n",
       "      <td>2.756101e+06</td>\n",
       "      <td>22457.000000</td>\n",
       "    </tr>\n",
       "    <tr>\n",
       "      <th>mean</th>\n",
       "      <td>1.436424e+12</td>\n",
       "      <td>7.019229e+05</td>\n",
       "      <td>2.349225e+05</td>\n",
       "      <td>8826.497796</td>\n",
       "    </tr>\n",
       "    <tr>\n",
       "      <th>std</th>\n",
       "      <td>3.366312e+09</td>\n",
       "      <td>4.056875e+05</td>\n",
       "      <td>1.341954e+05</td>\n",
       "      <td>5098.996290</td>\n",
       "    </tr>\n",
       "    <tr>\n",
       "      <th>min</th>\n",
       "      <td>1.430622e+12</td>\n",
       "      <td>0.000000e+00</td>\n",
       "      <td>3.000000e+00</td>\n",
       "      <td>0.000000</td>\n",
       "    </tr>\n",
       "    <tr>\n",
       "      <th>25%</th>\n",
       "      <td>1.433478e+12</td>\n",
       "      <td>3.505660e+05</td>\n",
       "      <td>1.181200e+05</td>\n",
       "      <td>4411.000000</td>\n",
       "    </tr>\n",
       "    <tr>\n",
       "      <th>50%</th>\n",
       "      <td>1.436453e+12</td>\n",
       "      <td>7.020600e+05</td>\n",
       "      <td>2.360670e+05</td>\n",
       "      <td>8813.000000</td>\n",
       "    </tr>\n",
       "    <tr>\n",
       "      <th>75%</th>\n",
       "      <td>1.439225e+12</td>\n",
       "      <td>1.053437e+06</td>\n",
       "      <td>3.507150e+05</td>\n",
       "      <td>13224.000000</td>\n",
       "    </tr>\n",
       "    <tr>\n",
       "      <th>max</th>\n",
       "      <td>1.442545e+12</td>\n",
       "      <td>1.407579e+06</td>\n",
       "      <td>4.668670e+05</td>\n",
       "      <td>17671.000000</td>\n",
       "    </tr>\n",
       "  </tbody>\n",
       "</table>\n",
       "</div>"
      ],
      "text/plain": [
       "          timestamp     visitorid        itemid  transactionid\n",
       "count  2.756101e+06  2.756101e+06  2.756101e+06   22457.000000\n",
       "mean   1.436424e+12  7.019229e+05  2.349225e+05    8826.497796\n",
       "std    3.366312e+09  4.056875e+05  1.341954e+05    5098.996290\n",
       "min    1.430622e+12  0.000000e+00  3.000000e+00       0.000000\n",
       "25%    1.433478e+12  3.505660e+05  1.181200e+05    4411.000000\n",
       "50%    1.436453e+12  7.020600e+05  2.360670e+05    8813.000000\n",
       "75%    1.439225e+12  1.053437e+06  3.507150e+05   13224.000000\n",
       "max    1.442545e+12  1.407579e+06  4.668670e+05   17671.000000"
      ]
     },
     "execution_count": 5,
     "metadata": {},
     "output_type": "execute_result"
    }
   ],
   "source": [
    "event_df.describe()"
   ]
  },
  {
   "cell_type": "code",
   "execution_count": 6,
   "id": "5078b272-e437-402a-9854-18102e196457",
   "metadata": {},
   "outputs": [],
   "source": [
    "event_df['timestamp'] = pd.to_datetime(event_df['timestamp'], unit='ms')"
   ]
  },
  {
   "cell_type": "code",
   "execution_count": 7,
   "id": "7c7e2068-f724-4dd6-8a22-68e783147dbc",
   "metadata": {},
   "outputs": [
    {
     "data": {
      "text/html": [
       "<div>\n",
       "<style scoped>\n",
       "    .dataframe tbody tr th:only-of-type {\n",
       "        vertical-align: middle;\n",
       "    }\n",
       "\n",
       "    .dataframe tbody tr th {\n",
       "        vertical-align: top;\n",
       "    }\n",
       "\n",
       "    .dataframe thead th {\n",
       "        text-align: right;\n",
       "    }\n",
       "</style>\n",
       "<table border=\"1\" class=\"dataframe\">\n",
       "  <thead>\n",
       "    <tr style=\"text-align: right;\">\n",
       "      <th></th>\n",
       "      <th>timestamp</th>\n",
       "      <th>visitorid</th>\n",
       "      <th>event</th>\n",
       "      <th>itemid</th>\n",
       "      <th>transactionid</th>\n",
       "    </tr>\n",
       "  </thead>\n",
       "  <tbody>\n",
       "    <tr>\n",
       "      <th>0</th>\n",
       "      <td>2015-06-02 05:02:12.117</td>\n",
       "      <td>257597</td>\n",
       "      <td>view</td>\n",
       "      <td>355908</td>\n",
       "      <td>NaN</td>\n",
       "    </tr>\n",
       "    <tr>\n",
       "      <th>1</th>\n",
       "      <td>2015-06-02 05:50:14.164</td>\n",
       "      <td>992329</td>\n",
       "      <td>view</td>\n",
       "      <td>248676</td>\n",
       "      <td>NaN</td>\n",
       "    </tr>\n",
       "    <tr>\n",
       "      <th>2</th>\n",
       "      <td>2015-06-02 05:13:19.827</td>\n",
       "      <td>111016</td>\n",
       "      <td>view</td>\n",
       "      <td>318965</td>\n",
       "      <td>NaN</td>\n",
       "    </tr>\n",
       "    <tr>\n",
       "      <th>3</th>\n",
       "      <td>2015-06-02 05:12:35.914</td>\n",
       "      <td>483717</td>\n",
       "      <td>view</td>\n",
       "      <td>253185</td>\n",
       "      <td>NaN</td>\n",
       "    </tr>\n",
       "    <tr>\n",
       "      <th>4</th>\n",
       "      <td>2015-06-02 05:02:17.106</td>\n",
       "      <td>951259</td>\n",
       "      <td>view</td>\n",
       "      <td>367447</td>\n",
       "      <td>NaN</td>\n",
       "    </tr>\n",
       "    <tr>\n",
       "      <th>...</th>\n",
       "      <td>...</td>\n",
       "      <td>...</td>\n",
       "      <td>...</td>\n",
       "      <td>...</td>\n",
       "      <td>...</td>\n",
       "    </tr>\n",
       "    <tr>\n",
       "      <th>2756096</th>\n",
       "      <td>2015-08-01 03:13:05.939</td>\n",
       "      <td>591435</td>\n",
       "      <td>view</td>\n",
       "      <td>261427</td>\n",
       "      <td>NaN</td>\n",
       "    </tr>\n",
       "    <tr>\n",
       "      <th>2756097</th>\n",
       "      <td>2015-08-01 03:30:13.142</td>\n",
       "      <td>762376</td>\n",
       "      <td>view</td>\n",
       "      <td>115946</td>\n",
       "      <td>NaN</td>\n",
       "    </tr>\n",
       "    <tr>\n",
       "      <th>2756098</th>\n",
       "      <td>2015-08-01 02:57:00.527</td>\n",
       "      <td>1251746</td>\n",
       "      <td>view</td>\n",
       "      <td>78144</td>\n",
       "      <td>NaN</td>\n",
       "    </tr>\n",
       "    <tr>\n",
       "      <th>2756099</th>\n",
       "      <td>2015-08-01 03:08:50.703</td>\n",
       "      <td>1184451</td>\n",
       "      <td>view</td>\n",
       "      <td>283392</td>\n",
       "      <td>NaN</td>\n",
       "    </tr>\n",
       "    <tr>\n",
       "      <th>2756100</th>\n",
       "      <td>2015-08-01 03:36:03.914</td>\n",
       "      <td>199536</td>\n",
       "      <td>view</td>\n",
       "      <td>152913</td>\n",
       "      <td>NaN</td>\n",
       "    </tr>\n",
       "  </tbody>\n",
       "</table>\n",
       "<p>2756101 rows × 5 columns</p>\n",
       "</div>"
      ],
      "text/plain": [
       "                      timestamp  visitorid event  itemid  transactionid\n",
       "0       2015-06-02 05:02:12.117     257597  view  355908            NaN\n",
       "1       2015-06-02 05:50:14.164     992329  view  248676            NaN\n",
       "2       2015-06-02 05:13:19.827     111016  view  318965            NaN\n",
       "3       2015-06-02 05:12:35.914     483717  view  253185            NaN\n",
       "4       2015-06-02 05:02:17.106     951259  view  367447            NaN\n",
       "...                         ...        ...   ...     ...            ...\n",
       "2756096 2015-08-01 03:13:05.939     591435  view  261427            NaN\n",
       "2756097 2015-08-01 03:30:13.142     762376  view  115946            NaN\n",
       "2756098 2015-08-01 02:57:00.527    1251746  view   78144            NaN\n",
       "2756099 2015-08-01 03:08:50.703    1184451  view  283392            NaN\n",
       "2756100 2015-08-01 03:36:03.914     199536  view  152913            NaN\n",
       "\n",
       "[2756101 rows x 5 columns]"
      ]
     },
     "execution_count": 7,
     "metadata": {},
     "output_type": "execute_result"
    }
   ],
   "source": [
    "event_df"
   ]
  },
  {
   "cell_type": "code",
   "execution_count": 8,
   "id": "da1fa6c3-5695-4e7f-ad2c-ea9b9543a9aa",
   "metadata": {},
   "outputs": [
    {
     "data": {
      "text/plain": [
       "timestamp              0\n",
       "visitorid              0\n",
       "event                  0\n",
       "itemid                 0\n",
       "transactionid    2733644\n",
       "dtype: int64"
      ]
     },
     "execution_count": 8,
     "metadata": {},
     "output_type": "execute_result"
    }
   ],
   "source": [
    "event_df.isnull().sum()"
   ]
  },
  {
   "cell_type": "code",
   "execution_count": 9,
   "id": "0cd1a3e2-8721-41e1-8e8a-9c9f1036408c",
   "metadata": {},
   "outputs": [],
   "source": [
    "event_df['transactionid'].fillna(0,inplace=True)"
   ]
  },
  {
   "cell_type": "code",
   "execution_count": 10,
   "id": "1d7d27b2-8f71-4501-a0c8-ed8affcafa9b",
   "metadata": {},
   "outputs": [
    {
     "data": {
      "text/plain": [
       "timestamp        0\n",
       "visitorid        0\n",
       "event            0\n",
       "itemid           0\n",
       "transactionid    0\n",
       "dtype: int64"
      ]
     },
     "execution_count": 10,
     "metadata": {},
     "output_type": "execute_result"
    }
   ],
   "source": [
    "event_df.isnull().sum()"
   ]
  },
  {
   "cell_type": "code",
   "execution_count": 11,
   "id": "75d9c7d6-be7c-4597-8e5b-fdb73f52f970",
   "metadata": {},
   "outputs": [
    {
     "data": {
      "text/html": [
       "<div>\n",
       "<style scoped>\n",
       "    .dataframe tbody tr th:only-of-type {\n",
       "        vertical-align: middle;\n",
       "    }\n",
       "\n",
       "    .dataframe tbody tr th {\n",
       "        vertical-align: top;\n",
       "    }\n",
       "\n",
       "    .dataframe thead th {\n",
       "        text-align: right;\n",
       "    }\n",
       "</style>\n",
       "<table border=\"1\" class=\"dataframe\">\n",
       "  <thead>\n",
       "    <tr style=\"text-align: right;\">\n",
       "      <th></th>\n",
       "      <th>timestamp</th>\n",
       "      <th>visitorid</th>\n",
       "      <th>event</th>\n",
       "      <th>itemid</th>\n",
       "      <th>transactionid</th>\n",
       "    </tr>\n",
       "  </thead>\n",
       "  <tbody>\n",
       "    <tr>\n",
       "      <th>0</th>\n",
       "      <td>2015-06-02 05:02:12.117</td>\n",
       "      <td>257597</td>\n",
       "      <td>view</td>\n",
       "      <td>355908</td>\n",
       "      <td>0.0</td>\n",
       "    </tr>\n",
       "    <tr>\n",
       "      <th>1</th>\n",
       "      <td>2015-06-02 05:50:14.164</td>\n",
       "      <td>992329</td>\n",
       "      <td>view</td>\n",
       "      <td>248676</td>\n",
       "      <td>0.0</td>\n",
       "    </tr>\n",
       "    <tr>\n",
       "      <th>2</th>\n",
       "      <td>2015-06-02 05:13:19.827</td>\n",
       "      <td>111016</td>\n",
       "      <td>view</td>\n",
       "      <td>318965</td>\n",
       "      <td>0.0</td>\n",
       "    </tr>\n",
       "    <tr>\n",
       "      <th>3</th>\n",
       "      <td>2015-06-02 05:12:35.914</td>\n",
       "      <td>483717</td>\n",
       "      <td>view</td>\n",
       "      <td>253185</td>\n",
       "      <td>0.0</td>\n",
       "    </tr>\n",
       "    <tr>\n",
       "      <th>4</th>\n",
       "      <td>2015-06-02 05:02:17.106</td>\n",
       "      <td>951259</td>\n",
       "      <td>view</td>\n",
       "      <td>367447</td>\n",
       "      <td>0.0</td>\n",
       "    </tr>\n",
       "  </tbody>\n",
       "</table>\n",
       "</div>"
      ],
      "text/plain": [
       "                timestamp  visitorid event  itemid  transactionid\n",
       "0 2015-06-02 05:02:12.117     257597  view  355908            0.0\n",
       "1 2015-06-02 05:50:14.164     992329  view  248676            0.0\n",
       "2 2015-06-02 05:13:19.827     111016  view  318965            0.0\n",
       "3 2015-06-02 05:12:35.914     483717  view  253185            0.0\n",
       "4 2015-06-02 05:02:17.106     951259  view  367447            0.0"
      ]
     },
     "execution_count": 11,
     "metadata": {},
     "output_type": "execute_result"
    }
   ],
   "source": [
    "event_df.head()"
   ]
  },
  {
   "cell_type": "code",
   "execution_count": 12,
   "id": "fbc369e4-3f71-470b-9cc5-7494d4b35c01",
   "metadata": {},
   "outputs": [
    {
     "data": {
      "text/plain": [
       "array(['view', 'addtocart', 'transaction'], dtype=object)"
      ]
     },
     "execution_count": 12,
     "metadata": {},
     "output_type": "execute_result"
    }
   ],
   "source": [
    "event_df['event'].unique()"
   ]
  },
  {
   "cell_type": "code",
   "execution_count": 13,
   "id": "ed3d94cb-d85a-4b20-94f5-3dadbfa41686",
   "metadata": {},
   "outputs": [
    {
     "data": {
      "text/plain": [
       "1407580"
      ]
     },
     "execution_count": 13,
     "metadata": {},
     "output_type": "execute_result"
    }
   ],
   "source": [
    "event_df['visitorid'].nunique()"
   ]
  },
  {
   "cell_type": "code",
   "execution_count": 14,
   "id": "38c09b48-8b77-4626-93b9-a76fe5cd97c3",
   "metadata": {},
   "outputs": [
    {
     "data": {
      "text/plain": [
       "235061"
      ]
     },
     "execution_count": 14,
     "metadata": {},
     "output_type": "execute_result"
    }
   ],
   "source": [
    "event_df['itemid'].nunique()"
   ]
  },
  {
   "cell_type": "code",
   "execution_count": 15,
   "id": "5741148f-7821-49c6-bde2-b8ae76a87b75",
   "metadata": {},
   "outputs": [
    {
     "data": {
      "text/html": [
       "<div>\n",
       "<style scoped>\n",
       "    .dataframe tbody tr th:only-of-type {\n",
       "        vertical-align: middle;\n",
       "    }\n",
       "\n",
       "    .dataframe tbody tr th {\n",
       "        vertical-align: top;\n",
       "    }\n",
       "\n",
       "    .dataframe thead th {\n",
       "        text-align: right;\n",
       "    }\n",
       "</style>\n",
       "<table border=\"1\" class=\"dataframe\">\n",
       "  <thead>\n",
       "    <tr style=\"text-align: right;\">\n",
       "      <th></th>\n",
       "      <th>timestamp</th>\n",
       "      <th>visitorid</th>\n",
       "      <th>event</th>\n",
       "      <th>itemid</th>\n",
       "      <th>transactionid</th>\n",
       "    </tr>\n",
       "  </thead>\n",
       "  <tbody>\n",
       "    <tr>\n",
       "      <th>0</th>\n",
       "      <td>2015-06-02 05:02:12.117</td>\n",
       "      <td>257597</td>\n",
       "      <td>view</td>\n",
       "      <td>355908</td>\n",
       "      <td>0.0</td>\n",
       "    </tr>\n",
       "    <tr>\n",
       "      <th>1</th>\n",
       "      <td>2015-06-02 05:50:14.164</td>\n",
       "      <td>992329</td>\n",
       "      <td>view</td>\n",
       "      <td>248676</td>\n",
       "      <td>0.0</td>\n",
       "    </tr>\n",
       "    <tr>\n",
       "      <th>2</th>\n",
       "      <td>2015-06-02 05:13:19.827</td>\n",
       "      <td>111016</td>\n",
       "      <td>view</td>\n",
       "      <td>318965</td>\n",
       "      <td>0.0</td>\n",
       "    </tr>\n",
       "    <tr>\n",
       "      <th>3</th>\n",
       "      <td>2015-06-02 05:12:35.914</td>\n",
       "      <td>483717</td>\n",
       "      <td>view</td>\n",
       "      <td>253185</td>\n",
       "      <td>0.0</td>\n",
       "    </tr>\n",
       "    <tr>\n",
       "      <th>4</th>\n",
       "      <td>2015-06-02 05:02:17.106</td>\n",
       "      <td>951259</td>\n",
       "      <td>view</td>\n",
       "      <td>367447</td>\n",
       "      <td>0.0</td>\n",
       "    </tr>\n",
       "  </tbody>\n",
       "</table>\n",
       "</div>"
      ],
      "text/plain": [
       "                timestamp  visitorid event  itemid  transactionid\n",
       "0 2015-06-02 05:02:12.117     257597  view  355908            0.0\n",
       "1 2015-06-02 05:50:14.164     992329  view  248676            0.0\n",
       "2 2015-06-02 05:13:19.827     111016  view  318965            0.0\n",
       "3 2015-06-02 05:12:35.914     483717  view  253185            0.0\n",
       "4 2015-06-02 05:02:17.106     951259  view  367447            0.0"
      ]
     },
     "execution_count": 15,
     "metadata": {},
     "output_type": "execute_result"
    }
   ],
   "source": [
    "event_df.head(5)"
   ]
  },
  {
   "cell_type": "code",
   "execution_count": 16,
   "id": "e57dee17-e6be-4962-acc3-c268e3e0a751",
   "metadata": {},
   "outputs": [],
   "source": [
    "# distribution of events over time to identify patterns in user interactions."
   ]
  },
  {
   "cell_type": "code",
   "execution_count": 17,
   "id": "c446678c-4519-4523-833d-f1fb11e95e01",
   "metadata": {},
   "outputs": [],
   "source": [
    "event_df['day_of_week'] = event_df['timestamp'].dt.day_name()\n",
    "event_df['hour'] = event_df['timestamp'].dt.hour"
   ]
  },
  {
   "cell_type": "code",
   "execution_count": 18,
   "id": "0ecbd4e6-a5ff-4394-b0e3-681195a78ed2",
   "metadata": {},
   "outputs": [
    {
     "data": {
      "image/png": "[encoded data removed]",
      "text/plain": [
       "<Figure size 1500x600 with 1 Axes>"
      ]
     },
     "metadata": {},
     "output_type": "display_data"
    }
   ],
   "source": [
    "plt.figure(figsize=(15, 6))\n",
    "\n",
    "ax1 = sns.countplot(data=event_df, x='day_of_week', order=event_df['day_of_week'].value_counts().index)\n",
    "plt.title('Distribution of Events by Day of the Week')\n",
    "for p in ax1.patches:\n",
    "    ax1.annotate(format(p.get_height(), '.0f'), (p.get_x() + p.get_width() / 2., p.get_height()), ha='center', va='center', xytext=(0, 9), textcoords='offset points')\n",
    "\n",
    "plt.show()"
   ]
  },
  {
   "cell_type": "code",
   "execution_count": 19,
   "id": "5311eece-ec9c-4c90-a3da-e688a4bfe707",
   "metadata": {},
   "outputs": [
    {
     "data": {
      "image/png": "[encoded data removed]",
      "text/plain": [
       "<Figure size 1500x600 with 1 Axes>"
      ]
     },
     "metadata": {},
     "output_type": "display_data"
    }
   ],
   "source": [
    "plt.figure(figsize=(15, 6))\n",
    "\n",
    "ax2 = sns.countplot(data=event_df, x='hour', order=event_df['hour'].value_counts().index)\n",
    "plt.title('Distribution of Events by Hour of the Day')\n",
    "for p in ax2.patches:\n",
    "    ax2.annotate(format(p.get_height(), '.0f'), (p.get_x() + p.get_width() / 2., p.get_height()), ha='center', va='center', xytext=(0, 9), textcoords='offset points')\n",
    "\n",
    "plt.show()"
   ]
  },
  {
   "cell_type": "code",
   "execution_count": 20,
   "id": "1d64fb32-dfa4-4479-ad03-1ba437cb334b",
   "metadata": {},
   "outputs": [
    {
     "data": {
      "image/png": "[encoded data removed]",
      "text/plain": [
       "<Figure size 800x500 with 1 Axes>"
      ]
     },
     "metadata": {},
     "output_type": "display_data"
    }
   ],
   "source": [
    "# events distribution\n",
    "plt.figure(figsize=(8, 5))\n",
    "event_df['event'].value_counts().plot(kind='bar')\n",
    "plt.title('Event Distribution')\n",
    "plt.xlabel('Event Type')\n",
    "plt.ylabel('Count')\n",
    "plt.xticks(rotation=0)\n",
    "plt.show()\n"
   ]
  },
  {
   "cell_type": "code",
   "execution_count": 21,
   "id": "580d092d-a728-4b9d-9929-a3cb0010435d",
   "metadata": {},
   "outputs": [
    {
     "data": {
      "text/html": [
       "<div>\n",
       "<style scoped>\n",
       "    .dataframe tbody tr th:only-of-type {\n",
       "        vertical-align: middle;\n",
       "    }\n",
       "\n",
       "    .dataframe tbody tr th {\n",
       "        vertical-align: top;\n",
       "    }\n",
       "\n",
       "    .dataframe thead th {\n",
       "        text-align: right;\n",
       "    }\n",
       "</style>\n",
       "<table border=\"1\" class=\"dataframe\">\n",
       "  <thead>\n",
       "    <tr style=\"text-align: right;\">\n",
       "      <th></th>\n",
       "      <th>timestamp</th>\n",
       "      <th>visitorid</th>\n",
       "      <th>event</th>\n",
       "      <th>itemid</th>\n",
       "      <th>transactionid</th>\n",
       "      <th>day_of_week</th>\n",
       "      <th>hour</th>\n",
       "    </tr>\n",
       "  </thead>\n",
       "  <tbody>\n",
       "    <tr>\n",
       "      <th>0</th>\n",
       "      <td>2015-06-02 05:02:12.117</td>\n",
       "      <td>257597</td>\n",
       "      <td>view</td>\n",
       "      <td>355908</td>\n",
       "      <td>0.0</td>\n",
       "      <td>Tuesday</td>\n",
       "      <td>5</td>\n",
       "    </tr>\n",
       "    <tr>\n",
       "      <th>1</th>\n",
       "      <td>2015-06-02 05:50:14.164</td>\n",
       "      <td>992329</td>\n",
       "      <td>view</td>\n",
       "      <td>248676</td>\n",
       "      <td>0.0</td>\n",
       "      <td>Tuesday</td>\n",
       "      <td>5</td>\n",
       "    </tr>\n",
       "    <tr>\n",
       "      <th>2</th>\n",
       "      <td>2015-06-02 05:13:19.827</td>\n",
       "      <td>111016</td>\n",
       "      <td>view</td>\n",
       "      <td>318965</td>\n",
       "      <td>0.0</td>\n",
       "      <td>Tuesday</td>\n",
       "      <td>5</td>\n",
       "    </tr>\n",
       "    <tr>\n",
       "      <th>3</th>\n",
       "      <td>2015-06-02 05:12:35.914</td>\n",
       "      <td>483717</td>\n",
       "      <td>view</td>\n",
       "      <td>253185</td>\n",
       "      <td>0.0</td>\n",
       "      <td>Tuesday</td>\n",
       "      <td>5</td>\n",
       "    </tr>\n",
       "    <tr>\n",
       "      <th>4</th>\n",
       "      <td>2015-06-02 05:02:17.106</td>\n",
       "      <td>951259</td>\n",
       "      <td>view</td>\n",
       "      <td>367447</td>\n",
       "      <td>0.0</td>\n",
       "      <td>Tuesday</td>\n",
       "      <td>5</td>\n",
       "    </tr>\n",
       "  </tbody>\n",
       "</table>\n",
       "</div>"
      ],
      "text/plain": [
       "                timestamp  visitorid event  itemid  transactionid day_of_week  \\\n",
       "0 2015-06-02 05:02:12.117     257597  view  355908            0.0     Tuesday   \n",
       "1 2015-06-02 05:50:14.164     992329  view  248676            0.0     Tuesday   \n",
       "2 2015-06-02 05:13:19.827     111016  view  318965            0.0     Tuesday   \n",
       "3 2015-06-02 05:12:35.914     483717  view  253185            0.0     Tuesday   \n",
       "4 2015-06-02 05:02:17.106     951259  view  367447            0.0     Tuesday   \n",
       "\n",
       "   hour  \n",
       "0     5  \n",
       "1     5  \n",
       "2     5  \n",
       "3     5  \n",
       "4     5  "
      ]
     },
     "execution_count": 21,
     "metadata": {},
     "output_type": "execute_result"
    }
   ],
   "source": [
    "event_df.head()"
   ]
  },
  {
   "cell_type": "code",
   "execution_count": 22,
   "id": "10854f47-89a3-4e2c-82af-284657744e88",
   "metadata": {},
   "outputs": [],
   "source": [
    "# intraction of visitor on item and event"
   ]
  },
  {
   "cell_type": "code",
   "execution_count": 23,
   "id": "9bb7170d-71ed-4659-813f-99c8631e1355",
   "metadata": {},
   "outputs": [
    {
     "data": {
      "text/html": [
       "<div>\n",
       "<style scoped>\n",
       "    .dataframe tbody tr th:only-of-type {\n",
       "        vertical-align: middle;\n",
       "    }\n",
       "\n",
       "    .dataframe tbody tr th {\n",
       "        vertical-align: top;\n",
       "    }\n",
       "\n",
       "    .dataframe thead th {\n",
       "        text-align: right;\n",
       "    }\n",
       "</style>\n",
       "<table border=\"1\" class=\"dataframe\">\n",
       "  <thead>\n",
       "    <tr style=\"text-align: right;\">\n",
       "      <th></th>\n",
       "      <th>visitorid</th>\n",
       "      <th>itemid</th>\n",
       "      <th>event</th>\n",
       "      <th>count</th>\n",
       "    </tr>\n",
       "  </thead>\n",
       "  <tbody>\n",
       "    <tr>\n",
       "      <th>0</th>\n",
       "      <td>0</td>\n",
       "      <td>67045</td>\n",
       "      <td>view</td>\n",
       "      <td>1</td>\n",
       "    </tr>\n",
       "    <tr>\n",
       "      <th>1</th>\n",
       "      <td>0</td>\n",
       "      <td>285930</td>\n",
       "      <td>view</td>\n",
       "      <td>1</td>\n",
       "    </tr>\n",
       "    <tr>\n",
       "      <th>2</th>\n",
       "      <td>0</td>\n",
       "      <td>357564</td>\n",
       "      <td>view</td>\n",
       "      <td>1</td>\n",
       "    </tr>\n",
       "    <tr>\n",
       "      <th>3</th>\n",
       "      <td>1</td>\n",
       "      <td>72028</td>\n",
       "      <td>view</td>\n",
       "      <td>1</td>\n",
       "    </tr>\n",
       "    <tr>\n",
       "      <th>4</th>\n",
       "      <td>2</td>\n",
       "      <td>216305</td>\n",
       "      <td>view</td>\n",
       "      <td>2</td>\n",
       "    </tr>\n",
       "    <tr>\n",
       "      <th>5</th>\n",
       "      <td>2</td>\n",
       "      <td>259884</td>\n",
       "      <td>view</td>\n",
       "      <td>1</td>\n",
       "    </tr>\n",
       "    <tr>\n",
       "      <th>6</th>\n",
       "      <td>2</td>\n",
       "      <td>325215</td>\n",
       "      <td>view</td>\n",
       "      <td>3</td>\n",
       "    </tr>\n",
       "    <tr>\n",
       "      <th>7</th>\n",
       "      <td>2</td>\n",
       "      <td>342816</td>\n",
       "      <td>view</td>\n",
       "      <td>2</td>\n",
       "    </tr>\n",
       "    <tr>\n",
       "      <th>8</th>\n",
       "      <td>3</td>\n",
       "      <td>385090</td>\n",
       "      <td>view</td>\n",
       "      <td>1</td>\n",
       "    </tr>\n",
       "    <tr>\n",
       "      <th>9</th>\n",
       "      <td>4</td>\n",
       "      <td>177677</td>\n",
       "      <td>view</td>\n",
       "      <td>1</td>\n",
       "    </tr>\n",
       "  </tbody>\n",
       "</table>\n",
       "</div>"
      ],
      "text/plain": [
       "   visitorid  itemid event  count\n",
       "0          0   67045  view      1\n",
       "1          0  285930  view      1\n",
       "2          0  357564  view      1\n",
       "3          1   72028  view      1\n",
       "4          2  216305  view      2\n",
       "5          2  259884  view      1\n",
       "6          2  325215  view      3\n",
       "7          2  342816  view      2\n",
       "8          3  385090  view      1\n",
       "9          4  177677  view      1"
      ]
     },
     "execution_count": 23,
     "metadata": {},
     "output_type": "execute_result"
    }
   ],
   "source": [
    "interaction_counts = event_df.groupby(['visitorid', 'itemid', 'event']).size().reset_index(name='count')\n",
    "interaction_counts.head(10)"
   ]
  },
  {
   "cell_type": "code",
   "execution_count": 24,
   "id": "ffc880fe-8592-405b-bb56-e94010de7d9c",
   "metadata": {},
   "outputs": [],
   "source": [
    "# intraction of visitor on events\n",
    "# that means every visitor action"
   ]
  },
  {
   "cell_type": "code",
   "execution_count": 25,
   "id": "0b4985f8-ef5b-44ab-be1c-049bc4189d4d",
   "metadata": {},
   "outputs": [
    {
     "data": {
      "text/plain": [
       "visitorid\n",
       "0                                  [view, view, view]\n",
       "1                                              [view]\n",
       "2    [view, view, view, view, view, view, view, view]\n",
       "3                                              [view]\n",
       "4                                              [view]\n",
       "5                                              [view]\n",
       "6           [view, view, addtocart, view, view, view]\n",
       "7                                  [view, view, view]\n",
       "8                                              [view]\n",
       "9                                              [view]\n",
       "Name: event, dtype: object"
      ]
     },
     "execution_count": 25,
     "metadata": {},
     "output_type": "execute_result"
    }
   ],
   "source": [
    "interaction_sequences = event_df.groupby('visitorid')['event'].apply(list)\n",
    "interaction_sequences.head(10)"
   ]
  },
  {
   "cell_type": "markdown",
   "id": "87d34103-1e16-4416-8ba5-18d5d4e37ba4",
   "metadata": {},
   "source": [
    "# Feature Engineering"
   ]
  },
  {
   "cell_type": "code",
   "execution_count": 26,
   "id": "d95b9695-a8ed-48c2-829f-c8f989048bbc",
   "metadata": {},
   "outputs": [],
   "source": [
    "# Calculate total number of events for each user \n",
    "user_interaction_counts = event_df.groupby('visitorid')['event'].count().reset_index()\n",
    "user_interaction_counts.rename(columns={'event': 'total_events_user'}, inplace=True)"
   ]
  },
  {
   "cell_type": "code",
   "execution_count": 27,
   "id": "a3f2d15a-ebe4-4106-8cd5-146e450bd57b",
   "metadata": {},
   "outputs": [
    {
     "data": {
      "text/html": [
       "<div>\n",
       "<style scoped>\n",
       "    .dataframe tbody tr th:only-of-type {\n",
       "        vertical-align: middle;\n",
       "    }\n",
       "\n",
       "    .dataframe tbody tr th {\n",
       "        vertical-align: top;\n",
       "    }\n",
       "\n",
       "    .dataframe thead th {\n",
       "        text-align: right;\n",
       "    }\n",
       "</style>\n",
       "<table border=\"1\" class=\"dataframe\">\n",
       "  <thead>\n",
       "    <tr style=\"text-align: right;\">\n",
       "      <th></th>\n",
       "      <th>visitorid</th>\n",
       "      <th>total_events_user</th>\n",
       "    </tr>\n",
       "  </thead>\n",
       "  <tbody>\n",
       "    <tr>\n",
       "      <th>0</th>\n",
       "      <td>0</td>\n",
       "      <td>3</td>\n",
       "    </tr>\n",
       "    <tr>\n",
       "      <th>1</th>\n",
       "      <td>1</td>\n",
       "      <td>1</td>\n",
       "    </tr>\n",
       "    <tr>\n",
       "      <th>2</th>\n",
       "      <td>2</td>\n",
       "      <td>8</td>\n",
       "    </tr>\n",
       "    <tr>\n",
       "      <th>3</th>\n",
       "      <td>3</td>\n",
       "      <td>1</td>\n",
       "    </tr>\n",
       "    <tr>\n",
       "      <th>4</th>\n",
       "      <td>4</td>\n",
       "      <td>1</td>\n",
       "    </tr>\n",
       "  </tbody>\n",
       "</table>\n",
       "</div>"
      ],
      "text/plain": [
       "   visitorid  total_events_user\n",
       "0          0                  3\n",
       "1          1                  1\n",
       "2          2                  8\n",
       "3          3                  1\n",
       "4          4                  1"
      ]
     },
     "execution_count": 27,
     "metadata": {},
     "output_type": "execute_result"
    }
   ],
   "source": [
    "user_interaction_counts.head()"
   ]
  },
  {
   "cell_type": "code",
   "execution_count": 28,
   "id": "40837294-ed79-4d36-b5dd-a18acf1a541f",
   "metadata": {},
   "outputs": [],
   "source": [
    "# Calculate total number of events for each item\n",
    "item_interaction_counts = event_df.groupby('itemid')['event'].count().reset_index()\n",
    "item_interaction_counts.rename(columns={'event': 'total_events_item'}, inplace=True)"
   ]
  },
  {
   "cell_type": "code",
   "execution_count": 29,
   "id": "0e8f88fe-2609-42bf-b36c-9fe805021631",
   "metadata": {},
   "outputs": [
    {
     "data": {
      "text/html": [
       "<div>\n",
       "<style scoped>\n",
       "    .dataframe tbody tr th:only-of-type {\n",
       "        vertical-align: middle;\n",
       "    }\n",
       "\n",
       "    .dataframe tbody tr th {\n",
       "        vertical-align: top;\n",
       "    }\n",
       "\n",
       "    .dataframe thead th {\n",
       "        text-align: right;\n",
       "    }\n",
       "</style>\n",
       "<table border=\"1\" class=\"dataframe\">\n",
       "  <thead>\n",
       "    <tr style=\"text-align: right;\">\n",
       "      <th></th>\n",
       "      <th>itemid</th>\n",
       "      <th>total_events_item</th>\n",
       "    </tr>\n",
       "  </thead>\n",
       "  <tbody>\n",
       "    <tr>\n",
       "      <th>0</th>\n",
       "      <td>3</td>\n",
       "      <td>2</td>\n",
       "    </tr>\n",
       "    <tr>\n",
       "      <th>1</th>\n",
       "      <td>4</td>\n",
       "      <td>3</td>\n",
       "    </tr>\n",
       "    <tr>\n",
       "      <th>2</th>\n",
       "      <td>6</td>\n",
       "      <td>29</td>\n",
       "    </tr>\n",
       "    <tr>\n",
       "      <th>3</th>\n",
       "      <td>9</td>\n",
       "      <td>2</td>\n",
       "    </tr>\n",
       "    <tr>\n",
       "      <th>4</th>\n",
       "      <td>15</td>\n",
       "      <td>22</td>\n",
       "    </tr>\n",
       "  </tbody>\n",
       "</table>\n",
       "</div>"
      ],
      "text/plain": [
       "   itemid  total_events_item\n",
       "0       3                  2\n",
       "1       4                  3\n",
       "2       6                 29\n",
       "3       9                  2\n",
       "4      15                 22"
      ]
     },
     "execution_count": 29,
     "metadata": {},
     "output_type": "execute_result"
    }
   ],
   "source": [
    "item_interaction_counts.head()"
   ]
  },
  {
   "cell_type": "code",
   "execution_count": 30,
   "id": "65e217e8-e31c-4904-8b9b-579705da153b",
   "metadata": {},
   "outputs": [],
   "source": [
    "# Calculate total number of unique items interacted with by each user\n",
    "user_unique_items = event_df.groupby('visitorid')['itemid'].nunique().reset_index()\n",
    "user_unique_items.rename(columns={'itemid': 'unique_items_interacted'}, inplace=True)"
   ]
  },
  {
   "cell_type": "code",
   "execution_count": 31,
   "id": "386a9a49-2eac-4365-9b00-102865be8184",
   "metadata": {},
   "outputs": [
    {
     "data": {
      "text/html": [
       "<div>\n",
       "<style scoped>\n",
       "    .dataframe tbody tr th:only-of-type {\n",
       "        vertical-align: middle;\n",
       "    }\n",
       "\n",
       "    .dataframe tbody tr th {\n",
       "        vertical-align: top;\n",
       "    }\n",
       "\n",
       "    .dataframe thead th {\n",
       "        text-align: right;\n",
       "    }\n",
       "</style>\n",
       "<table border=\"1\" class=\"dataframe\">\n",
       "  <thead>\n",
       "    <tr style=\"text-align: right;\">\n",
       "      <th></th>\n",
       "      <th>visitorid</th>\n",
       "      <th>unique_items_interacted</th>\n",
       "    </tr>\n",
       "  </thead>\n",
       "  <tbody>\n",
       "    <tr>\n",
       "      <th>0</th>\n",
       "      <td>0</td>\n",
       "      <td>3</td>\n",
       "    </tr>\n",
       "    <tr>\n",
       "      <th>1</th>\n",
       "      <td>1</td>\n",
       "      <td>1</td>\n",
       "    </tr>\n",
       "    <tr>\n",
       "      <th>2</th>\n",
       "      <td>2</td>\n",
       "      <td>4</td>\n",
       "    </tr>\n",
       "    <tr>\n",
       "      <th>3</th>\n",
       "      <td>3</td>\n",
       "      <td>1</td>\n",
       "    </tr>\n",
       "    <tr>\n",
       "      <th>4</th>\n",
       "      <td>4</td>\n",
       "      <td>1</td>\n",
       "    </tr>\n",
       "  </tbody>\n",
       "</table>\n",
       "</div>"
      ],
      "text/plain": [
       "   visitorid  unique_items_interacted\n",
       "0          0                        3\n",
       "1          1                        1\n",
       "2          2                        4\n",
       "3          3                        1\n",
       "4          4                        1"
      ]
     },
     "execution_count": 31,
     "metadata": {},
     "output_type": "execute_result"
    }
   ],
   "source": [
    "user_unique_items.head()"
   ]
  },
  {
   "cell_type": "code",
   "execution_count": 32,
   "id": "27414100-0041-482d-914e-13d87027ceaa",
   "metadata": {},
   "outputs": [],
   "source": [
    "# Calculate total number of unique users interacting with each item\n",
    "item_unique_users = event_df.groupby('itemid')['visitorid'].nunique().reset_index()\n",
    "item_unique_users.rename(columns={'visitorid': 'unique_users_interacted'}, inplace=True)"
   ]
  },
  {
   "cell_type": "code",
   "execution_count": 33,
   "id": "4dfea627-583e-4d1b-b504-349457350d8a",
   "metadata": {},
   "outputs": [
    {
     "data": {
      "text/html": [
       "<div>\n",
       "<style scoped>\n",
       "    .dataframe tbody tr th:only-of-type {\n",
       "        vertical-align: middle;\n",
       "    }\n",
       "\n",
       "    .dataframe tbody tr th {\n",
       "        vertical-align: top;\n",
       "    }\n",
       "\n",
       "    .dataframe thead th {\n",
       "        text-align: right;\n",
       "    }\n",
       "</style>\n",
       "<table border=\"1\" class=\"dataframe\">\n",
       "  <thead>\n",
       "    <tr style=\"text-align: right;\">\n",
       "      <th></th>\n",
       "      <th>itemid</th>\n",
       "      <th>unique_users_interacted</th>\n",
       "    </tr>\n",
       "  </thead>\n",
       "  <tbody>\n",
       "    <tr>\n",
       "      <th>0</th>\n",
       "      <td>3</td>\n",
       "      <td>2</td>\n",
       "    </tr>\n",
       "    <tr>\n",
       "      <th>1</th>\n",
       "      <td>4</td>\n",
       "      <td>3</td>\n",
       "    </tr>\n",
       "    <tr>\n",
       "      <th>2</th>\n",
       "      <td>6</td>\n",
       "      <td>26</td>\n",
       "    </tr>\n",
       "    <tr>\n",
       "      <th>3</th>\n",
       "      <td>9</td>\n",
       "      <td>2</td>\n",
       "    </tr>\n",
       "    <tr>\n",
       "      <th>4</th>\n",
       "      <td>15</td>\n",
       "      <td>13</td>\n",
       "    </tr>\n",
       "  </tbody>\n",
       "</table>\n",
       "</div>"
      ],
      "text/plain": [
       "   itemid  unique_users_interacted\n",
       "0       3                        2\n",
       "1       4                        3\n",
       "2       6                       26\n",
       "3       9                        2\n",
       "4      15                       13"
      ]
     },
     "execution_count": 33,
     "metadata": {},
     "output_type": "execute_result"
    }
   ],
   "source": [
    "item_unique_users.head()"
   ]
  },
  {
   "cell_type": "code",
   "execution_count": 34,
   "id": "adeb4bef-0534-4a78-974c-af3f308deec7",
   "metadata": {},
   "outputs": [],
   "source": [
    "event_df = event_df.merge(user_interaction_counts, on='visitorid', how='left')\n",
    "event_df = event_df.merge(item_interaction_counts, on='itemid', how='left')\n",
    "event_df = event_df.merge(user_unique_items, on='visitorid', how='left')\n",
    "event_df = event_df.merge(item_unique_users, on='itemid', how='left')"
   ]
  },
  {
   "cell_type": "code",
   "execution_count": 35,
   "id": "ff0c5836-7d15-4f1a-b87c-dd99a02a0466",
   "metadata": {},
   "outputs": [
    {
     "data": {
      "text/html": [
       "<div>\n",
       "<style scoped>\n",
       "    .dataframe tbody tr th:only-of-type {\n",
       "        vertical-align: middle;\n",
       "    }\n",
       "\n",
       "    .dataframe tbody tr th {\n",
       "        vertical-align: top;\n",
       "    }\n",
       "\n",
       "    .dataframe thead th {\n",
       "        text-align: right;\n",
       "    }\n",
       "</style>\n",
       "<table border=\"1\" class=\"dataframe\">\n",
       "  <thead>\n",
       "    <tr style=\"text-align: right;\">\n",
       "      <th></th>\n",
       "      <th>timestamp</th>\n",
       "      <th>visitorid</th>\n",
       "      <th>event</th>\n",
       "      <th>itemid</th>\n",
       "      <th>transactionid</th>\n",
       "      <th>day_of_week</th>\n",
       "      <th>hour</th>\n",
       "      <th>total_events_user</th>\n",
       "      <th>total_events_item</th>\n",
       "      <th>unique_items_interacted</th>\n",
       "      <th>unique_users_interacted</th>\n",
       "    </tr>\n",
       "  </thead>\n",
       "  <tbody>\n",
       "    <tr>\n",
       "      <th>0</th>\n",
       "      <td>2015-06-02 05:02:12.117</td>\n",
       "      <td>257597</td>\n",
       "      <td>view</td>\n",
       "      <td>355908</td>\n",
       "      <td>0.0</td>\n",
       "      <td>Tuesday</td>\n",
       "      <td>5</td>\n",
       "      <td>2</td>\n",
       "      <td>57</td>\n",
       "      <td>2</td>\n",
       "      <td>46</td>\n",
       "    </tr>\n",
       "    <tr>\n",
       "      <th>1</th>\n",
       "      <td>2015-06-02 05:50:14.164</td>\n",
       "      <td>992329</td>\n",
       "      <td>view</td>\n",
       "      <td>248676</td>\n",
       "      <td>0.0</td>\n",
       "      <td>Tuesday</td>\n",
       "      <td>5</td>\n",
       "      <td>30</td>\n",
       "      <td>34</td>\n",
       "      <td>24</td>\n",
       "      <td>24</td>\n",
       "    </tr>\n",
       "    <tr>\n",
       "      <th>2</th>\n",
       "      <td>2015-06-02 05:13:19.827</td>\n",
       "      <td>111016</td>\n",
       "      <td>view</td>\n",
       "      <td>318965</td>\n",
       "      <td>0.0</td>\n",
       "      <td>Tuesday</td>\n",
       "      <td>5</td>\n",
       "      <td>2</td>\n",
       "      <td>15</td>\n",
       "      <td>1</td>\n",
       "      <td>13</td>\n",
       "    </tr>\n",
       "    <tr>\n",
       "      <th>3</th>\n",
       "      <td>2015-06-02 05:12:35.914</td>\n",
       "      <td>483717</td>\n",
       "      <td>view</td>\n",
       "      <td>253185</td>\n",
       "      <td>0.0</td>\n",
       "      <td>Tuesday</td>\n",
       "      <td>5</td>\n",
       "      <td>3</td>\n",
       "      <td>14</td>\n",
       "      <td>2</td>\n",
       "      <td>10</td>\n",
       "    </tr>\n",
       "    <tr>\n",
       "      <th>4</th>\n",
       "      <td>2015-06-02 05:02:17.106</td>\n",
       "      <td>951259</td>\n",
       "      <td>view</td>\n",
       "      <td>367447</td>\n",
       "      <td>0.0</td>\n",
       "      <td>Tuesday</td>\n",
       "      <td>5</td>\n",
       "      <td>1</td>\n",
       "      <td>260</td>\n",
       "      <td>1</td>\n",
       "      <td>202</td>\n",
       "    </tr>\n",
       "    <tr>\n",
       "      <th>5</th>\n",
       "      <td>2015-06-02 05:48:06.234</td>\n",
       "      <td>972639</td>\n",
       "      <td>view</td>\n",
       "      <td>22556</td>\n",
       "      <td>0.0</td>\n",
       "      <td>Tuesday</td>\n",
       "      <td>5</td>\n",
       "      <td>2</td>\n",
       "      <td>3</td>\n",
       "      <td>2</td>\n",
       "      <td>3</td>\n",
       "    </tr>\n",
       "    <tr>\n",
       "      <th>6</th>\n",
       "      <td>2015-06-02 05:12:03.240</td>\n",
       "      <td>810725</td>\n",
       "      <td>view</td>\n",
       "      <td>443030</td>\n",
       "      <td>0.0</td>\n",
       "      <td>Tuesday</td>\n",
       "      <td>5</td>\n",
       "      <td>2</td>\n",
       "      <td>238</td>\n",
       "      <td>2</td>\n",
       "      <td>151</td>\n",
       "    </tr>\n",
       "    <tr>\n",
       "      <th>7</th>\n",
       "      <td>2015-06-02 05:34:51.897</td>\n",
       "      <td>794181</td>\n",
       "      <td>view</td>\n",
       "      <td>439202</td>\n",
       "      <td>0.0</td>\n",
       "      <td>Tuesday</td>\n",
       "      <td>5</td>\n",
       "      <td>5</td>\n",
       "      <td>49</td>\n",
       "      <td>3</td>\n",
       "      <td>39</td>\n",
       "    </tr>\n",
       "    <tr>\n",
       "      <th>8</th>\n",
       "      <td>2015-06-02 04:54:59.221</td>\n",
       "      <td>824915</td>\n",
       "      <td>view</td>\n",
       "      <td>428805</td>\n",
       "      <td>0.0</td>\n",
       "      <td>Tuesday</td>\n",
       "      <td>4</td>\n",
       "      <td>5</td>\n",
       "      <td>17</td>\n",
       "      <td>5</td>\n",
       "      <td>16</td>\n",
       "    </tr>\n",
       "    <tr>\n",
       "      <th>9</th>\n",
       "      <td>2015-06-02 05:00:04.592</td>\n",
       "      <td>339335</td>\n",
       "      <td>view</td>\n",
       "      <td>82389</td>\n",
       "      <td>0.0</td>\n",
       "      <td>Tuesday</td>\n",
       "      <td>5</td>\n",
       "      <td>2</td>\n",
       "      <td>541</td>\n",
       "      <td>1</td>\n",
       "      <td>431</td>\n",
       "    </tr>\n",
       "  </tbody>\n",
       "</table>\n",
       "</div>"
      ],
      "text/plain": [
       "                timestamp  visitorid event  itemid  transactionid day_of_week  \\\n",
       "0 2015-06-02 05:02:12.117     257597  view  355908            0.0     Tuesday   \n",
       "1 2015-06-02 05:50:14.164     992329  view  248676            0.0     Tuesday   \n",
       "2 2015-06-02 05:13:19.827     111016  view  318965            0.0     Tuesday   \n",
       "3 2015-06-02 05:12:35.914     483717  view  253185            0.0     Tuesday   \n",
       "4 2015-06-02 05:02:17.106     951259  view  367447            0.0     Tuesday   \n",
       "5 2015-06-02 05:48:06.234     972639  view   22556            0.0     Tuesday   \n",
       "6 2015-06-02 05:12:03.240     810725  view  443030            0.0     Tuesday   \n",
       "7 2015-06-02 05:34:51.897     794181  view  439202            0.0     Tuesday   \n",
       "8 2015-06-02 04:54:59.221     824915  view  428805            0.0     Tuesday   \n",
       "9 2015-06-02 05:00:04.592     339335  view   82389            0.0     Tuesday   \n",
       "\n",
       "   hour  total_events_user  total_events_item  unique_items_interacted  \\\n",
       "0     5                  2                 57                        2   \n",
       "1     5                 30                 34                       24   \n",
       "2     5                  2                 15                        1   \n",
       "3     5                  3                 14                        2   \n",
       "4     5                  1                260                        1   \n",
       "5     5                  2                  3                        2   \n",
       "6     5                  2                238                        2   \n",
       "7     5                  5                 49                        3   \n",
       "8     4                  5                 17                        5   \n",
       "9     5                  2                541                        1   \n",
       "\n",
       "   unique_users_interacted  \n",
       "0                       46  \n",
       "1                       24  \n",
       "2                       13  \n",
       "3                       10  \n",
       "4                      202  \n",
       "5                        3  \n",
       "6                      151  \n",
       "7                       39  \n",
       "8                       16  \n",
       "9                      431  "
      ]
     },
     "execution_count": 35,
     "metadata": {},
     "output_type": "execute_result"
    }
   ],
   "source": [
    "event_df.head(10)"
   ]
  },
  {
   "cell_type": "code",
   "execution_count": 36,
   "id": "6e970a04-49e2-4865-8942-26978149d468",
   "metadata": {},
   "outputs": [],
   "source": [
    "# find out top most active users"
   ]
  },
  {
   "cell_type": "code",
   "execution_count": 37,
   "id": "49ecef8a-6352-497d-9742-06d53de1bdde",
   "metadata": {},
   "outputs": [
    {
     "data": {
      "image/png": "[encoded data removed]",
      "text/plain": [
       "<Figure size 1000x600 with 1 Axes>"
      ]
     },
     "metadata": {},
     "output_type": "display_data"
    }
   ],
   "source": [
    "user_interaction_counts = event_df.groupby('visitorid')['event'].count().reset_index()\n",
    "user_interaction_counts.rename(columns={'event': 'total_events_user'}, inplace=True)\n",
    "\n",
    "top_users = user_interaction_counts.sort_values(by='total_events_user', ascending=False).head(10)\n",
    "\n",
    "plt.figure(figsize=(10, 6))\n",
    "ax = sns.barplot(data=top_users, x='visitorid', y='total_events_user')\n",
    "plt.title('Top 10 Most Active Users')\n",
    "plt.xlabel('User ID')\n",
    "plt.ylabel('Total Events')\n",
    "plt.xticks(rotation=45, ha='right')\n",
    "\n",
    "for p in ax.patches:\n",
    "    ax.annotate(format(p.get_height(), '.0f'), (p.get_x() + p.get_width() / 2., p.get_height()), ha='center', va='center', xytext=(0, 9), textcoords='offset points')\n",
    "\n",
    "plt.tight_layout()\n",
    "plt.show()"
   ]
  },
  {
   "cell_type": "code",
   "execution_count": 38,
   "id": "a47705c0-7c93-4d24-bb8d-f1428432b2d0",
   "metadata": {},
   "outputs": [],
   "source": [
    "event_mapping = {'view': 1, 'addtocart': 2, 'transaction': 3}\n",
    "event_df['event_value'] = event_df['event'].map(event_mapping)\n",
    "\n",
    "event_df = event_df.dropna(subset=['event_value'])\n"
   ]
  },
  {
   "cell_type": "code",
   "execution_count": 39,
   "id": "a64d57e5-1d26-4794-82c3-8dd0ed873916",
   "metadata": {},
   "outputs": [
    {
     "data": {
      "text/html": [
       "<div>\n",
       "<style scoped>\n",
       "    .dataframe tbody tr th:only-of-type {\n",
       "        vertical-align: middle;\n",
       "    }\n",
       "\n",
       "    .dataframe tbody tr th {\n",
       "        vertical-align: top;\n",
       "    }\n",
       "\n",
       "    .dataframe thead th {\n",
       "        text-align: right;\n",
       "    }\n",
       "</style>\n",
       "<table border=\"1\" class=\"dataframe\">\n",
       "  <thead>\n",
       "    <tr style=\"text-align: right;\">\n",
       "      <th></th>\n",
       "      <th>timestamp</th>\n",
       "      <th>visitorid</th>\n",
       "      <th>event</th>\n",
       "      <th>itemid</th>\n",
       "      <th>transactionid</th>\n",
       "      <th>day_of_week</th>\n",
       "      <th>hour</th>\n",
       "      <th>total_events_user</th>\n",
       "      <th>total_events_item</th>\n",
       "      <th>unique_items_interacted</th>\n",
       "      <th>unique_users_interacted</th>\n",
       "      <th>event_value</th>\n",
       "    </tr>\n",
       "  </thead>\n",
       "  <tbody>\n",
       "    <tr>\n",
       "      <th>0</th>\n",
       "      <td>2015-06-02 05:02:12.117</td>\n",
       "      <td>257597</td>\n",
       "      <td>view</td>\n",
       "      <td>355908</td>\n",
       "      <td>0.0</td>\n",
       "      <td>Tuesday</td>\n",
       "      <td>5</td>\n",
       "      <td>2</td>\n",
       "      <td>57</td>\n",
       "      <td>2</td>\n",
       "      <td>46</td>\n",
       "      <td>1</td>\n",
       "    </tr>\n",
       "    <tr>\n",
       "      <th>1</th>\n",
       "      <td>2015-06-02 05:50:14.164</td>\n",
       "      <td>992329</td>\n",
       "      <td>view</td>\n",
       "      <td>248676</td>\n",
       "      <td>0.0</td>\n",
       "      <td>Tuesday</td>\n",
       "      <td>5</td>\n",
       "      <td>30</td>\n",
       "      <td>34</td>\n",
       "      <td>24</td>\n",
       "      <td>24</td>\n",
       "      <td>1</td>\n",
       "    </tr>\n",
       "    <tr>\n",
       "      <th>2</th>\n",
       "      <td>2015-06-02 05:13:19.827</td>\n",
       "      <td>111016</td>\n",
       "      <td>view</td>\n",
       "      <td>318965</td>\n",
       "      <td>0.0</td>\n",
       "      <td>Tuesday</td>\n",
       "      <td>5</td>\n",
       "      <td>2</td>\n",
       "      <td>15</td>\n",
       "      <td>1</td>\n",
       "      <td>13</td>\n",
       "      <td>1</td>\n",
       "    </tr>\n",
       "    <tr>\n",
       "      <th>3</th>\n",
       "      <td>2015-06-02 05:12:35.914</td>\n",
       "      <td>483717</td>\n",
       "      <td>view</td>\n",
       "      <td>253185</td>\n",
       "      <td>0.0</td>\n",
       "      <td>Tuesday</td>\n",
       "      <td>5</td>\n",
       "      <td>3</td>\n",
       "      <td>14</td>\n",
       "      <td>2</td>\n",
       "      <td>10</td>\n",
       "      <td>1</td>\n",
       "    </tr>\n",
       "    <tr>\n",
       "      <th>4</th>\n",
       "      <td>2015-06-02 05:02:17.106</td>\n",
       "      <td>951259</td>\n",
       "      <td>view</td>\n",
       "      <td>367447</td>\n",
       "      <td>0.0</td>\n",
       "      <td>Tuesday</td>\n",
       "      <td>5</td>\n",
       "      <td>1</td>\n",
       "      <td>260</td>\n",
       "      <td>1</td>\n",
       "      <td>202</td>\n",
       "      <td>1</td>\n",
       "    </tr>\n",
       "  </tbody>\n",
       "</table>\n",
       "</div>"
      ],
      "text/plain": [
       "                timestamp  visitorid event  itemid  transactionid day_of_week  \\\n",
       "0 2015-06-02 05:02:12.117     257597  view  355908            0.0     Tuesday   \n",
       "1 2015-06-02 05:50:14.164     992329  view  248676            0.0     Tuesday   \n",
       "2 2015-06-02 05:13:19.827     111016  view  318965            0.0     Tuesday   \n",
       "3 2015-06-02 05:12:35.914     483717  view  253185            0.0     Tuesday   \n",
       "4 2015-06-02 05:02:17.106     951259  view  367447            0.0     Tuesday   \n",
       "\n",
       "   hour  total_events_user  total_events_item  unique_items_interacted  \\\n",
       "0     5                  2                 57                        2   \n",
       "1     5                 30                 34                       24   \n",
       "2     5                  2                 15                        1   \n",
       "3     5                  3                 14                        2   \n",
       "4     5                  1                260                        1   \n",
       "\n",
       "   unique_users_interacted  event_value  \n",
       "0                       46            1  \n",
       "1                       24            1  \n",
       "2                       13            1  \n",
       "3                       10            1  \n",
       "4                      202            1  "
      ]
     },
     "execution_count": 39,
     "metadata": {},
     "output_type": "execute_result"
    }
   ],
   "source": [
    "event_df.head()"
   ]
  },
  {
   "cell_type": "code",
   "execution_count": null,
   "id": "8087f19e-c0d3-43f9-abbb-801e4f90fb56",
   "metadata": {},
   "outputs": [],
   "source": []
  },
  {
   "cell_type": "code",
   "execution_count": 40,
   "id": "e8985e5d-7918-493b-8b83-865f0190bb4f",
   "metadata": {},
   "outputs": [],
   "source": [
    "event_df['interaction_value'] = event_df['event'].apply(lambda x: 0.4 if x == 'view' else (0.6 if x == 'addtocart' else 0.8))\n",
    "\n",
    "item_index_map = {item: idx for idx, item in enumerate(event_df['itemid'].unique())}\n",
    "visitor_index_map = {visitor: idx for idx, visitor in enumerate(event_df['visitorid'].unique())}\n",
    "\n",
    "row_indices = [visitor_index_map[visitor] for visitor in event_df['visitorid']]\n",
    "col_indices = [item_index_map[item] for item in event_df['itemid']]\n",
    "interaction_values = event_df['interaction_value']\n",
    "\n",
    "interaction_matrix = csr_matrix((interaction_values, (row_indices, col_indices)),\n",
    "                                 shape=(len(visitor_index_map), len(item_index_map)))"
   ]
  },
  {
   "cell_type": "code",
   "execution_count": 42,
   "id": "932ecaf7-b680-4c8f-8fd0-b0f37f371c55",
   "metadata": {},
   "outputs": [
    {
     "name": "stdout",
     "output_type": "stream",
     "text": [
      "  (0, 0)\t0.4\n",
      "  (0, 3415)\t0.4\n",
      "  (1, 1)\t0.4\n",
      "  (1, 2101)\t0.4\n",
      "  (1, 2421)\t0.4\n",
      "  (1, 4112)\t0.4\n",
      "  (1, 5444)\t0.4\n",
      "  (1, 8199)\t0.4\n",
      "  (1, 11416)\t0.4\n",
      "  (1, 15434)\t0.4\n",
      "  (1, 22492)\t0.4\n",
      "  (1, 24683)\t0.8\n",
      "  (1, 24728)\t1.6\n",
      "  (1, 31226)\t0.4\n",
      "  (1, 36863)\t0.4\n",
      "  (1, 37451)\t0.4\n",
      "  (1, 37950)\t0.4\n",
      "  (1, 37956)\t0.4\n",
      "  (1, 38232)\t0.4\n",
      "  (1, 38745)\t0.8\n",
      "  (1, 38934)\t0.4\n",
      "  (1, 50767)\t0.8\n",
      "  (1, 69304)\t0.4\n",
      "  (1, 73820)\t0.4\n",
      "  (1, 91821)\t0.4\n",
      "  :\t:\n",
      "  (1407555, 48561)\t0.4\n",
      "  (1407556, 34641)\t0.4\n",
      "  (1407557, 39000)\t0.4\n",
      "  (1407558, 1690)\t0.4\n",
      "  (1407559, 235058)\t0.4\n",
      "  (1407560, 17430)\t0.4\n",
      "  (1407561, 29900)\t0.4\n",
      "  (1407562, 12445)\t0.4\n",
      "  (1407563, 2355)\t0.4\n",
      "  (1407564, 7691)\t0.4\n",
      "  (1407565, 166698)\t0.4\n",
      "  (1407566, 235059)\t0.4\n",
      "  (1407567, 2579)\t0.4\n",
      "  (1407568, 235060)\t0.4\n",
      "  (1407569, 3982)\t0.4\n",
      "  (1407570, 32481)\t0.4\n",
      "  (1407571, 26557)\t0.4\n",
      "  (1407572, 9161)\t0.4\n",
      "  (1407573, 131858)\t0.4\n",
      "  (1407574, 47236)\t0.4\n",
      "  (1407575, 11786)\t0.4\n",
      "  (1407576, 64470)\t0.4\n",
      "  (1407577, 6875)\t0.4\n",
      "  (1407578, 8928)\t0.4\n",
      "  (1407579, 90304)\t0.4\n"
     ]
    }
   ],
   "source": [
    "print(interaction_matrix)"
   ]
  },
  {
   "cell_type": "code",
   "execution_count": 50,
   "id": "4fc728fe-849d-45e4-a828-19f69c5ecbe2",
   "metadata": {},
   "outputs": [],
   "source": [
    "from sklearn.decomposition import TruncatedSVD\n",
    "# Perform SVD to decompose the interaction matrix\n",
    "n_components = 50  # Number of latent factors\n",
    "svd = TruncatedSVD(n_components=n_components)\n",
    "U = svd.fit_transform(interaction_matrix)\n",
    "Vt = svd.components_"
   ]
  },
  {
   "cell_type": "code",
   "execution_count": 51,
   "id": "114a95f2-a44b-4faf-8e0e-0e5c30c420e8",
   "metadata": {},
   "outputs": [],
   "source": [
    "def recommend_items(user_id, U, Vt, num_recommendations=5):\n",
    "    user_row = user_id\n",
    "    predicted_user_ratings = np.dot(U[user_row, :], Vt)\n",
    "    item_ids = np.argsort(predicted_user_ratings)[::-1]\n",
    "    user_interacted_items = interaction_matrix[user_row, :].nonzero()[1]\n",
    "    recommended_items = [item for item in item_ids if item not in user_interacted_items]\n",
    "    return recommended_items[:num_recommendations]"
   ]
  },
  {
   "cell_type": "code",
   "execution_count": 53,
   "id": "4a0ee134-13bb-40b4-8915-7290942c3443",
   "metadata": {},
   "outputs": [],
   "source": [
    "\n",
    "user_id = 1\n",
    "recommended_items = recommend_items(user_id, U, Vt, num_recommendations=5)"
   ]
  },
  {
   "cell_type": "code",
   "execution_count": 54,
   "id": "fa9cd2f4-3f08-4644-8da2-4cc4c479bad7",
   "metadata": {},
   "outputs": [
    {
     "data": {
      "text/plain": [
       "[4404, 78887, 11180, 441, 117768]"
      ]
     },
     "execution_count": 54,
     "metadata": {},
     "output_type": "execute_result"
    }
   ],
   "source": [
    "recommended_items"
   ]
  },
  {
   "cell_type": "code",
   "execution_count": 55,
   "id": "40b31e5f-644b-470a-93e1-a783ef7f66d0",
   "metadata": {},
   "outputs": [
    {
     "name": "stdout",
     "output_type": "stream",
     "text": [
      "Recommended items: [4404, 36230, 192, 3596, 2147]\n"
     ]
    }
   ],
   "source": [
    "import numpy as np\n",
    "from sklearn.decomposition import TruncatedSVD\n",
    "import joblib\n",
    "\n",
    "class RecommendationModel:\n",
    "    def __init__(self, n_components=50):\n",
    "        self.n_components = n_components\n",
    "        self.svd = None\n",
    "        self.U = None\n",
    "        self.Vt = None\n",
    "\n",
    "    def train(self, interaction_matrix):\n",
    "        self.svd = TruncatedSVD(n_components=self.n_components)\n",
    "        self.U = self.svd.fit_transform(interaction_matrix)\n",
    "        self.Vt = self.svd.components_\n",
    "\n",
    "    def recommend_items(self, user_id, interaction_matrix, num_recommendations=5):\n",
    "        user_row = user_id\n",
    "        predicted_user_ratings = np.dot(self.U[user_row, :], self.Vt)\n",
    "        user_interacted_items = interaction_matrix[user_row, :].nonzero()[1]\n",
    "        recommended_items = [item for item in range(interaction_matrix.shape[1]) if item not in user_interacted_items]\n",
    "        recommended_items.sort(key=lambda item: predicted_user_ratings[item], reverse=True)\n",
    "        return recommended_items[:num_recommendations]\n",
    "\n",
    "    def save_model(self, filename):\n",
    "        joblib.dump(self, filename)\n",
    "\n",
    "    @classmethod\n",
    "    def load_model(cls, filename):\n",
    "        return joblib.load(filename)\n",
    "\n",
    "# Example usage:\n",
    "# Create a recommendation model, train it, save it, and load it.\n",
    "model = RecommendationModel(n_components=50)\n",
    "model.train(interaction_matrix)\n",
    "model.save_model('recommendation_model.pkl')\n",
    "loaded_model = RecommendationModel.load_model('recommendation_model.pkl')\n",
    "\n",
    "# Make recommendations using the loaded model\n",
    "\n"
   ]
  },
  {
   "cell_type": "code",
   "execution_count": 56,
   "id": "5452b99b-ad55-4b02-ac36-1379e39e43af",
   "metadata": {},
   "outputs": [
    {
     "name": "stdout",
     "output_type": "stream",
     "text": [
      "Recommended items: [78887, 4404, 11180, 4836, 441]\n"
     ]
    }
   ],
   "source": [
    "user_id = 1\n",
    "recommendations = loaded_model.recommend_items(user_id, interaction_matrix, num_recommendations=5)\n",
    "print(\"Recommended items:\", recommendations)"
   ]
  },
  {
   "cell_type": "code",
   "execution_count": null,
   "id": "1f283b18-5c93-4a57-8421-3a31660f766a",
   "metadata": {},
   "outputs": [],
   "source": []
  },
  {
   "cell_type": "code",
   "execution_count": null,
   "id": "23f18de8-2d77-4da8-ad92-9c123990dd6a",
   "metadata": {},
   "outputs": [],
   "source": []
  },
  {
   "cell_type": "code",
   "execution_count": null,
   "id": "b6a25f90-61a1-42ce-864d-6009fe2578b0",
   "metadata": {},
   "outputs": [],
   "source": []
  },
  {
   "cell_type": "code",
   "execution_count": null,
   "id": "4f74fe5d-e1ad-43fa-9c74-dbf139961c35",
   "metadata": {},
   "outputs": [],
   "source": []
  },
  {
   "cell_type": "markdown",
   "id": "b61b93f0-7ca3-4294-8dfd-271aa754312a",
   "metadata": {},
   "source": [
    "# building model for predicts the probability of a user buying the same product they have previously purchased"
   ]
  },
  {
   "cell_type": "code",
   "execution_count": 68,
   "id": "77a796f8-3acb-49dc-875b-cfd72f634063",
   "metadata": {},
   "outputs": [],
   "source": [
    "# Create a dataset for binary classification\n",
    "purchased_items = event_df[event_df['event'] == 'transaction'][['visitorid', 'itemid']].copy()\n",
    "purchased_items['purchased'] = 1\n",
    "\n",
    "# Merge with the original data to include interactions\n",
    "binary_classification_df = event_df[['visitorid', 'itemid']].copy()\n",
    "\n",
    "# Merge with the purchased_items dataset\n",
    "binary_classification_df = binary_classification_df.merge(purchased_items, on=['visitorid', 'itemid'], how='left')\n",
    "\n",
    "# Fill NaN values with 0 (indicating no purchase)\n",
    "binary_classification_df['purchased'] = binary_classification_df['purchased'].fillna(0)\n"
   ]
  },
  {
   "cell_type": "code",
   "execution_count": 69,
   "id": "7c369362-441e-4eb2-8475-e51698c50213",
   "metadata": {},
   "outputs": [
    {
     "data": {
      "text/html": [
       "<div>\n",
       "<style scoped>\n",
       "    .dataframe tbody tr th:only-of-type {\n",
       "        vertical-align: middle;\n",
       "    }\n",
       "\n",
       "    .dataframe tbody tr th {\n",
       "        vertical-align: top;\n",
       "    }\n",
       "\n",
       "    .dataframe thead th {\n",
       "        text-align: right;\n",
       "    }\n",
       "</style>\n",
       "<table border=\"1\" class=\"dataframe\">\n",
       "  <thead>\n",
       "    <tr style=\"text-align: right;\">\n",
       "      <th></th>\n",
       "      <th>visitorid</th>\n",
       "      <th>itemid</th>\n",
       "      <th>purchased</th>\n",
       "    </tr>\n",
       "  </thead>\n",
       "  <tbody>\n",
       "    <tr>\n",
       "      <th>0</th>\n",
       "      <td>257597</td>\n",
       "      <td>355908</td>\n",
       "      <td>0.0</td>\n",
       "    </tr>\n",
       "    <tr>\n",
       "      <th>1</th>\n",
       "      <td>992329</td>\n",
       "      <td>248676</td>\n",
       "      <td>0.0</td>\n",
       "    </tr>\n",
       "    <tr>\n",
       "      <th>2</th>\n",
       "      <td>111016</td>\n",
       "      <td>318965</td>\n",
       "      <td>0.0</td>\n",
       "    </tr>\n",
       "    <tr>\n",
       "      <th>3</th>\n",
       "      <td>483717</td>\n",
       "      <td>253185</td>\n",
       "      <td>0.0</td>\n",
       "    </tr>\n",
       "    <tr>\n",
       "      <th>4</th>\n",
       "      <td>951259</td>\n",
       "      <td>367447</td>\n",
       "      <td>0.0</td>\n",
       "    </tr>\n",
       "    <tr>\n",
       "      <th>...</th>\n",
       "      <td>...</td>\n",
       "      <td>...</td>\n",
       "      <td>...</td>\n",
       "    </tr>\n",
       "    <tr>\n",
       "      <th>2767888</th>\n",
       "      <td>591435</td>\n",
       "      <td>261427</td>\n",
       "      <td>0.0</td>\n",
       "    </tr>\n",
       "    <tr>\n",
       "      <th>2767889</th>\n",
       "      <td>762376</td>\n",
       "      <td>115946</td>\n",
       "      <td>0.0</td>\n",
       "    </tr>\n",
       "    <tr>\n",
       "      <th>2767890</th>\n",
       "      <td>1251746</td>\n",
       "      <td>78144</td>\n",
       "      <td>0.0</td>\n",
       "    </tr>\n",
       "    <tr>\n",
       "      <th>2767891</th>\n",
       "      <td>1184451</td>\n",
       "      <td>283392</td>\n",
       "      <td>0.0</td>\n",
       "    </tr>\n",
       "    <tr>\n",
       "      <th>2767892</th>\n",
       "      <td>199536</td>\n",
       "      <td>152913</td>\n",
       "      <td>0.0</td>\n",
       "    </tr>\n",
       "  </tbody>\n",
       "</table>\n",
       "<p>2767893 rows × 3 columns</p>\n",
       "</div>"
      ],
      "text/plain": [
       "         visitorid  itemid  purchased\n",
       "0           257597  355908        0.0\n",
       "1           992329  248676        0.0\n",
       "2           111016  318965        0.0\n",
       "3           483717  253185        0.0\n",
       "4           951259  367447        0.0\n",
       "...            ...     ...        ...\n",
       "2767888     591435  261427        0.0\n",
       "2767889     762376  115946        0.0\n",
       "2767890    1251746   78144        0.0\n",
       "2767891    1184451  283392        0.0\n",
       "2767892     199536  152913        0.0\n",
       "\n",
       "[2767893 rows x 3 columns]"
      ]
     },
     "execution_count": 69,
     "metadata": {},
     "output_type": "execute_result"
    }
   ],
   "source": [
    "binary_classification_df"
   ]
  },
  {
   "cell_type": "code",
   "execution_count": 70,
   "id": "fb6a9820-85c1-44bd-88d1-211d22bb4115",
   "metadata": {},
   "outputs": [
    {
     "data": {
      "text/plain": [
       "array([0., 1.])"
      ]
     },
     "execution_count": 70,
     "metadata": {},
     "output_type": "execute_result"
    }
   ],
   "source": [
    "binary_classification_df['purchased'].unique()"
   ]
  },
  {
   "cell_type": "code",
   "execution_count": 72,
   "id": "a2134063-0b77-4e76-b4f4-226b58800e07",
   "metadata": {},
   "outputs": [],
   "source": [
    "binary_classification_df['purchased'] = binary_classification_df['purchased'].astype(int)\n"
   ]
  },
  {
   "cell_type": "code",
   "execution_count": 73,
   "id": "4ffb45fb-cdc8-4a8c-94a6-014be0017743",
   "metadata": {},
   "outputs": [
    {
     "data": {
      "text/html": [
       "<div>\n",
       "<style scoped>\n",
       "    .dataframe tbody tr th:only-of-type {\n",
       "        vertical-align: middle;\n",
       "    }\n",
       "\n",
       "    .dataframe tbody tr th {\n",
       "        vertical-align: top;\n",
       "    }\n",
       "\n",
       "    .dataframe thead th {\n",
       "        text-align: right;\n",
       "    }\n",
       "</style>\n",
       "<table border=\"1\" class=\"dataframe\">\n",
       "  <thead>\n",
       "    <tr style=\"text-align: right;\">\n",
       "      <th></th>\n",
       "      <th>visitorid</th>\n",
       "      <th>itemid</th>\n",
       "      <th>purchased</th>\n",
       "    </tr>\n",
       "  </thead>\n",
       "  <tbody>\n",
       "    <tr>\n",
       "      <th>0</th>\n",
       "      <td>257597</td>\n",
       "      <td>355908</td>\n",
       "      <td>0</td>\n",
       "    </tr>\n",
       "    <tr>\n",
       "      <th>1</th>\n",
       "      <td>992329</td>\n",
       "      <td>248676</td>\n",
       "      <td>0</td>\n",
       "    </tr>\n",
       "    <tr>\n",
       "      <th>2</th>\n",
       "      <td>111016</td>\n",
       "      <td>318965</td>\n",
       "      <td>0</td>\n",
       "    </tr>\n",
       "    <tr>\n",
       "      <th>3</th>\n",
       "      <td>483717</td>\n",
       "      <td>253185</td>\n",
       "      <td>0</td>\n",
       "    </tr>\n",
       "    <tr>\n",
       "      <th>4</th>\n",
       "      <td>951259</td>\n",
       "      <td>367447</td>\n",
       "      <td>0</td>\n",
       "    </tr>\n",
       "    <tr>\n",
       "      <th>...</th>\n",
       "      <td>...</td>\n",
       "      <td>...</td>\n",
       "      <td>...</td>\n",
       "    </tr>\n",
       "    <tr>\n",
       "      <th>2767888</th>\n",
       "      <td>591435</td>\n",
       "      <td>261427</td>\n",
       "      <td>0</td>\n",
       "    </tr>\n",
       "    <tr>\n",
       "      <th>2767889</th>\n",
       "      <td>762376</td>\n",
       "      <td>115946</td>\n",
       "      <td>0</td>\n",
       "    </tr>\n",
       "    <tr>\n",
       "      <th>2767890</th>\n",
       "      <td>1251746</td>\n",
       "      <td>78144</td>\n",
       "      <td>0</td>\n",
       "    </tr>\n",
       "    <tr>\n",
       "      <th>2767891</th>\n",
       "      <td>1184451</td>\n",
       "      <td>283392</td>\n",
       "      <td>0</td>\n",
       "    </tr>\n",
       "    <tr>\n",
       "      <th>2767892</th>\n",
       "      <td>199536</td>\n",
       "      <td>152913</td>\n",
       "      <td>0</td>\n",
       "    </tr>\n",
       "  </tbody>\n",
       "</table>\n",
       "<p>2767893 rows × 3 columns</p>\n",
       "</div>"
      ],
      "text/plain": [
       "         visitorid  itemid  purchased\n",
       "0           257597  355908          0\n",
       "1           992329  248676          0\n",
       "2           111016  318965          0\n",
       "3           483717  253185          0\n",
       "4           951259  367447          0\n",
       "...            ...     ...        ...\n",
       "2767888     591435  261427          0\n",
       "2767889     762376  115946          0\n",
       "2767890    1251746   78144          0\n",
       "2767891    1184451  283392          0\n",
       "2767892     199536  152913          0\n",
       "\n",
       "[2767893 rows x 3 columns]"
      ]
     },
     "execution_count": 73,
     "metadata": {},
     "output_type": "execute_result"
    }
   ],
   "source": [
    "binary_classification_df"
   ]
  },
  {
   "cell_type": "code",
   "execution_count": 74,
   "id": "aeff5f73-8e74-4c16-9d3d-d5319d4392d2",
   "metadata": {},
   "outputs": [
    {
     "data": {
      "text/plain": [
       "array([0, 1])"
      ]
     },
     "execution_count": 74,
     "metadata": {},
     "output_type": "execute_result"
    }
   ],
   "source": [
    "binary_classification_df['purchased'].unique()"
   ]
  },
  {
   "cell_type": "code",
   "execution_count": 75,
   "id": "2fe1ea5f-fd16-4465-9099-7c91b6cbf91d",
   "metadata": {},
   "outputs": [],
   "source": [
    "from sklearn.model_selection import train_test_split\n",
    "\n",
    "X = binary_classification_df[['visitorid', 'itemid']]\n",
    "y = binary_classification_df['purchased']\n",
    "\n",
    "X_train, X_test, y_train, y_test = train_test_split(X, y, test_size=0.2, random_state=42)\n"
   ]
  },
  {
   "cell_type": "code",
   "execution_count": 76,
   "id": "8107c447-f8e3-42e8-bca2-3d2bfc8e0688",
   "metadata": {},
   "outputs": [
    {
     "data": {
      "text/html": [
       "<style>#sk-container-id-1 {color: black;}#sk-container-id-1 pre{padding: 0;}#sk-container-id-1 div.sk-toggleable {background-color: white;}#sk-container-id-1 label.sk-toggleable__label {cursor: pointer;display: block;width: 100%;margin-bottom: 0;padding: 0.3em;box-sizing: border-box;text-align: center;}#sk-container-id-1 label.sk-toggleable__label-arrow:before {content: \"▸\";float: left;margin-right: 0.25em;color: #696969;}#sk-container-id-1 label.sk-toggleable__label-arrow:hover:before {color: black;}#sk-container-id-1 div.sk-estimator:hover label.sk-toggleable__label-arrow:before {color: black;}#sk-container-id-1 div.sk-toggleable__content {max-height: 0;max-width: 0;overflow: hidden;text-align: left;background-color: #f0f8ff;}#sk-container-id-1 div.sk-toggleable__content pre {margin: 0.2em;color: black;border-radius: 0.25em;background-color: #f0f8ff;}#sk-container-id-1 input.sk-toggleable__control:checked~div.sk-toggleable__content {max-height: 200px;max-width: 100%;overflow: auto;}#sk-container-id-1 input.sk-toggleable__control:checked~label.sk-toggleable__label-arrow:before {content: \"▾\";}#sk-container-id-1 div.sk-estimator input.sk-toggleable__control:checked~label.sk-toggleable__label {background-color: #d4ebff;}#sk-container-id-1 div.sk-label input.sk-toggleable__control:checked~label.sk-toggleable__label {background-color: #d4ebff;}#sk-container-id-1 input.sk-hidden--visually {border: 0;clip: rect(1px 1px 1px 1px);clip: rect(1px, 1px, 1px, 1px);height: 1px;margin: -1px;overflow: hidden;padding: 0;position: absolute;width: 1px;}#sk-container-id-1 div.sk-estimator {font-family: monospace;background-color: #f0f8ff;border: 1px dotted black;border-radius: 0.25em;box-sizing: border-box;margin-bottom: 0.5em;}#sk-container-id-1 div.sk-estimator:hover {background-color: #d4ebff;}#sk-container-id-1 div.sk-parallel-item::after {content: \"\";width: 100%;border-bottom: 1px solid gray;flex-grow: 1;}#sk-container-id-1 div.sk-label:hover label.sk-toggleable__label {background-color: #d4ebff;}#sk-container-id-1 div.sk-serial::before {content: \"\";position: absolute;border-left: 1px solid gray;box-sizing: border-box;top: 0;bottom: 0;left: 50%;z-index: 0;}#sk-container-id-1 div.sk-serial {display: flex;flex-direction: column;align-items: center;background-color: white;padding-right: 0.2em;padding-left: 0.2em;position: relative;}#sk-container-id-1 div.sk-item {position: relative;z-index: 1;}#sk-container-id-1 div.sk-parallel {display: flex;align-items: stretch;justify-content: center;background-color: white;position: relative;}#sk-container-id-1 div.sk-item::before, #sk-container-id-1 div.sk-parallel-item::before {content: \"\";position: absolute;border-left: 1px solid gray;box-sizing: border-box;top: 0;bottom: 0;left: 50%;z-index: -1;}#sk-container-id-1 div.sk-parallel-item {display: flex;flex-direction: column;z-index: 1;position: relative;background-color: white;}#sk-container-id-1 div.sk-parallel-item:first-child::after {align-self: flex-end;width: 50%;}#sk-container-id-1 div.sk-parallel-item:last-child::after {align-self: flex-start;width: 50%;}#sk-container-id-1 div.sk-parallel-item:only-child::after {width: 0;}#sk-container-id-1 div.sk-dashed-wrapped {border: 1px dashed gray;margin: 0 0.4em 0.5em 0.4em;box-sizing: border-box;padding-bottom: 0.4em;background-color: white;}#sk-container-id-1 div.sk-label label {font-family: monospace;font-weight: bold;display: inline-block;line-height: 1.2em;}#sk-container-id-1 div.sk-label-container {text-align: center;}#sk-container-id-1 div.sk-container {/* jupyter's `normalize.less` sets `[hidden] { display: none; }` but bootstrap.min.css set `[hidden] { display: none !important; }` so we also need the `!important` here to be able to override the default hidden behavior on the sphinx rendered scikit-learn.org. See: https://github.com/scikit-learn/scikit-learn/issues/21755 */display: inline-block !important;position: relative;}#sk-container-id-1 div.sk-text-repr-fallback {display: none;}</style><div id=\"sk-container-id-1\" class=\"sk-top-container\"><div class=\"sk-text-repr-fallback\"><pre>LogisticRegression()</pre><b>In a Jupyter environment, please rerun this cell to show the HTML representation or trust the notebook. <br />On GitHub, the HTML representation is unable to render, please try loading this page with nbviewer.org.</b></div><div class=\"sk-container\" hidden><div class=\"sk-item\"><div class=\"sk-estimator sk-toggleable\"><input class=\"sk-toggleable__control sk-hidden--visually\" id=\"sk-estimator-id-1\" type=\"checkbox\" checked><label for=\"sk-estimator-id-1\" class=\"sk-toggleable__label sk-toggleable__label-arrow\">LogisticRegression</label><div class=\"sk-toggleable__content\"><pre>LogisticRegression()</pre></div></div></div></div></div>"
      ],
      "text/plain": [
       "LogisticRegression()"
      ]
     },
     "execution_count": 76,
     "metadata": {},
     "output_type": "execute_result"
    }
   ],
   "source": [
    "from sklearn.linear_model import LogisticRegression\n",
    "\n",
    "# Create and train the model\n",
    "model = LogisticRegression()\n",
    "model.fit(X_train, y_train)\n"
   ]
  },
  {
   "cell_type": "code",
   "execution_count": 77,
   "id": "b584439b-1a57-4746-a3b7-efa888c8f3c7",
   "metadata": {},
   "outputs": [],
   "source": [
    "# Predict purchases and probabilities\n",
    "predictions = model.predict(X_test)\n",
    "probabilities = model.predict_proba(X_test)[:, 1]"
   ]
  },
  {
   "cell_type": "code",
   "execution_count": 78,
   "id": "4c55d844-d68e-48b1-902d-3774edcf381c",
   "metadata": {},
   "outputs": [
    {
     "name": "stdout",
     "output_type": "stream",
     "text": [
      "Probability of user 123 buying item 456: 0.50\n"
     ]
    },
    {
     "name": "stderr",
     "output_type": "stream",
     "text": [
      "C:\\Users\\vishw\\AppData\\Local\\Programs\\Python\\Python311\\Lib\\site-packages\\sklearn\\base.py:465: UserWarning: X does not have valid feature names, but LogisticRegression was fitted with feature names\n",
      "  warnings.warn(\n"
     ]
    }
   ],
   "source": [
    "user_id = 123/\n",
    "item_id = 456  \n",
    "user_item_pair = np.array([[user_id, item_id]])\n",
    "probability = model.predict_proba(user_item_pair)[:, 1]\n",
    "print(f\"Probability of user {user_id} buying item {item_id}: {probability[0]:.2f}\")"
   ]
  },
  {
   "cell_type": "code",
   "execution_count": null,
   "id": "1d06bd70-5159-491e-87ef-c9865f3c9ccc",
   "metadata": {},
   "outputs": [],
   "source": []
  }
 ],
 "metadata": {
  "kernelspec": {
   "display_name": "Python 3 (ipykernel)",
   "language": "python",
   "name": "python3"
  },
  "language_info": {
   "codemirror_mode": {
    "name": "ipython",
    "version": 3
   },
   "file_extension": ".py",
   "mimetype": "text/x-python",
   "name": "python",
   "nbconvert_exporter": "python",
   "pygments_lexer": "ipython3",
   "version": "3.11.5"
  }
 },
 "nbformat": 4,
 "nbformat_minor": 5
}
